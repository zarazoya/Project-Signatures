{
 "cells": [
  {
   "cell_type": "code",
   "execution_count": 85,
   "metadata": {},
   "outputs": [],
   "source": [
    "#LOADING ALL THE LIBRARIES\n",
    "import cv2\n",
    "import matplotlib.pyplot as plt\n",
    "import numpy as np\n",
    "from random import shuffle\n",
    "from random import randrange\n",
    "from sklearn.preprocessing import LabelEncoder\n",
    "import os \n",
    "import shutil\n",
    "from keras import layers\n",
    "from keras import models\n",
    "from keras.utils import to_categorical\n",
    "from sklearn.model_selection import train_test_split\n",
    "#Adam is more stable than the other optimizers, it doesn’t suffer any major decreases in accuracy.\n",
    "#works well for sparse gradient\n",
    "from keras.optimizers import Adam"
   ]
  },
  {
   "cell_type": "markdown",
   "metadata": {},
   "source": [
    "###  GETTING THE DATA"
   ]
  },
  {
   "cell_type": "code",
   "execution_count": 86,
   "metadata": {},
   "outputs": [],
   "source": [
    "#DEFINING THE DIRECTORIES OF THE IMAGES\n",
    "original_dir = 'Documents/PetImages/'\n",
    "base_dir ='Desktop/DLP/signature/data/'\n",
    "ax_base_dir ='Desktop/DLP/signature/ax'\n",
    "bx_base_dir ='Desktop/DLP/signature/bx'\n",
    "#os.mkdir(base_dir)"
   ]
  },
  {
   "cell_type": "markdown",
   "metadata": {},
   "source": [
    "###  LOADING THE IMAGES"
   ]
  },
  {
   "cell_type": "code",
   "execution_count": 87,
   "metadata": {},
   "outputs": [
    {
     "data": {
      "text/plain": [
       "(list, 12)"
      ]
     },
     "execution_count": 87,
     "metadata": {},
     "output_type": "execute_result"
    }
   ],
   "source": [
    "#GATHERING IMAGES FOR TRAINING\n",
    "\n",
    "def Ax_Test_Data():\n",
    "    test=[]\n",
    "    #test = cv2.imread(base_dir+'A_{}.png'.format(1))\n",
    "    for i in range(1,len(os.listdir(ax_base_dir))+1):\n",
    "        x = cv2.imread(base_dir+'A_{}.png'.format(i))\n",
    "        #print(x.shape)\n",
    "        #test = np.vstack((test,x))\n",
    "        x = cv2.resize(x,(600,300))\n",
    "        test.append(x)\n",
    "    return test\n",
    "def Bx_Test_Data():\n",
    "    test=[]\n",
    "    for i in range(1,len(os.listdir(bx_base_dir))+1):\n",
    "        x = cv2.imread(base_dir+'B_{}.png'.format(i))\n",
    "        #print(x.shape)\n",
    "        #test = np.vstack((test,x))\n",
    "        x = cv2.resize(x,(600,300))\n",
    "        test.append(x)\n",
    "        \n",
    "    return test\n",
    "ax = Ax_Test_Data()\n",
    "bx = Ax_Test_Data()\n",
    "xdata = ax+bx\n",
    "type(xdata),len(xdata)"
   ]
  },
  {
   "cell_type": "markdown",
   "metadata": {},
   "source": [
    "###  GENERATING ARTIFICIAL LABELS"
   ]
  },
  {
   "cell_type": "markdown",
   "metadata": {},
   "source": [
    " you will have to define the labels here"
   ]
  },
  {
   "cell_type": "code",
   "execution_count": 88,
   "metadata": {},
   "outputs": [
    {
     "name": "stdout",
     "output_type": "stream",
     "text": [
      "[3, 5, 1, 8, 2, 6, 7, 5, 7, 7, 7, 3]\n"
     ]
    }
   ],
   "source": [
    "def GenerateTestLabel():\n",
    "    y1 = [randrange(0,9) for i in range(1,len(os.listdir(bx_base_dir))+1)]\n",
    "    y2 = [randrange(0,9) for i in range(1,len(os.listdir(ax_base_dir))+1)]\n",
    "    \n",
    "    return y1+y2\n",
    "#these are the custom labels, from 0 to 9, as it is multi-classification....\n",
    "# 0-9 are the identities of the signature.\n",
    "#i-e num1 belongs to this signature and 8 belongs to that signature\n",
    "#you can define or load the labels acc to yourself\n",
    "y = GenerateTestLabel()\n",
    "print(y)"
   ]
  },
  {
   "cell_type": "markdown",
   "metadata": {},
   "source": [
    "####  Encoding the labels"
   ]
  },
  {
   "cell_type": "code",
   "execution_count": 89,
   "metadata": {},
   "outputs": [],
   "source": [
    "enc = LabelEncoder()\n",
    "ydata = enc.fit(y).fit_transform(y)"
   ]
  },
  {
   "cell_type": "code",
   "execution_count": 90,
   "metadata": {},
   "outputs": [
    {
     "data": {
      "text/plain": [
       "array([2, 3, 0, 6, 1, 4, 5, 3, 5, 5, 5, 2])"
      ]
     },
     "execution_count": 90,
     "metadata": {},
     "output_type": "execute_result"
    }
   ],
   "source": [
    "ydata"
   ]
  },
  {
   "cell_type": "markdown",
   "metadata": {},
   "source": [
    "#### HOT LABEL ENCODING"
   ]
  },
  {
   "cell_type": "code",
   "execution_count": 91,
   "metadata": {},
   "outputs": [],
   "source": [
    "ydata = to_categorical(ydata)"
   ]
  },
  {
   "cell_type": "code",
   "execution_count": 92,
   "metadata": {},
   "outputs": [
    {
     "data": {
      "text/plain": [
       "array([[0., 0., 1., 0., 0., 0., 0.],\n",
       "       [0., 0., 0., 1., 0., 0., 0.],\n",
       "       [1., 0., 0., 0., 0., 0., 0.],\n",
       "       [0., 0., 0., 0., 0., 0., 1.],\n",
       "       [0., 1., 0., 0., 0., 0., 0.],\n",
       "       [0., 0., 0., 0., 1., 0., 0.],\n",
       "       [0., 0., 0., 0., 0., 1., 0.],\n",
       "       [0., 0., 0., 1., 0., 0., 0.],\n",
       "       [0., 0., 0., 0., 0., 1., 0.],\n",
       "       [0., 0., 0., 0., 0., 1., 0.],\n",
       "       [0., 0., 0., 0., 0., 1., 0.],\n",
       "       [0., 0., 1., 0., 0., 0., 0.]], dtype=float32)"
      ]
     },
     "execution_count": 92,
     "metadata": {},
     "output_type": "execute_result"
    }
   ],
   "source": [
    "ydata"
   ]
  },
  {
   "cell_type": "code",
   "execution_count": 93,
   "metadata": {},
   "outputs": [
    {
     "data": {
      "text/plain": [
       "7"
      ]
     },
     "execution_count": 93,
     "metadata": {},
     "output_type": "execute_result"
    }
   ],
   "source": [
    "output = ydata.shape[1]\n",
    "output #this is the number of neurons to be fit in the output layer"
   ]
  },
  {
   "cell_type": "code",
   "execution_count": 129,
   "metadata": {},
   "outputs": [
    {
     "data": {
      "text/plain": [
       "<matplotlib.image.AxesImage at 0x7f5b683eafd0>"
      ]
     },
     "execution_count": 129,
     "metadata": {},
     "output_type": "execute_result"
    },
    {
     "data": {
      "image/png": "[encoded data removed]",
      "text/plain": [
       "<Figure size 432x288 with 1 Axes>"
      ]
     },
     "metadata": {
      "needs_background": "light"
     },
     "output_type": "display_data"
    }
   ],
   "source": [
    "plt.imshow(xdata[0]) #IMAGE"
   ]
  },
  {
   "cell_type": "code",
   "execution_count": 130,
   "metadata": {},
   "outputs": [],
   "source": [
    "def MODEL():\n",
    "    #defining the model\n",
    "    model = models.Sequential()\n",
    "    model.add(layers.Conv2D(48,(11,11), activation = 'relu', input_shape=(300,600,3)))\n",
    "    model.add(layers.MaxPooling2D(3,3))\n",
    "\n",
    "    model.add(layers.Conv2D(128,(5,5),activation = 'relu'))\n",
    "    model.add(layers.MaxPooling2D(3,3))\n",
    "    model.add(layers.Dropout(0.3))\n",
    "\n",
    "    model.add(layers.Conv2D(256,(3,3),activation = 'relu'))\n",
    "    model.add(layers.Conv2D(96,(3,3),activation = 'relu'))\n",
    "    model.add(layers.MaxPooling2D(3,3))\n",
    "    model.add(layers.Dropout(0.3))\n",
    "\n",
    "    model.add(layers.Flatten())\n",
    "    model.add(layers.Dense(1024,activation='relu'))\n",
    "    model.add(layers.Dropout(0.3))\n",
    "    model.add(layers.Dense(output,activation='softmax')) # <=== Defining the output layer here\n",
    "    #Adam is more stable than the other optimizers, it doesn’t suffer any major decreases in accuracy.\n",
    "    #works well for sparse gradient\n",
    "    model.compile(optimizer='rmsprop',loss='categorical_crossentropy',metrics=['accuracy'])\n",
    "    return model\n",
    "    "
   ]
  },
  {
   "cell_type": "code",
   "execution_count": 131,
   "metadata": {},
   "outputs": [
    {
     "name": "stdout",
     "output_type": "stream",
     "text": [
      "_________________________________________________________________\n",
      "Layer (type)                 Output Shape              Param #   \n",
      "=================================================================\n",
      "conv2d_21 (Conv2D)           (None, 290, 590, 48)      17472     \n",
      "_________________________________________________________________\n",
      "max_pooling2d_16 (MaxPooling (None, 96, 196, 48)       0         \n",
      "_________________________________________________________________\n",
      "conv2d_22 (Conv2D)           (None, 92, 192, 128)      153728    \n",
      "_________________________________________________________________\n",
      "max_pooling2d_17 (MaxPooling (None, 30, 64, 128)       0         \n",
      "_________________________________________________________________\n",
      "dropout_16 (Dropout)         (None, 30, 64, 128)       0         \n",
      "_________________________________________________________________\n",
      "conv2d_23 (Conv2D)           (None, 28, 62, 256)       295168    \n",
      "_________________________________________________________________\n",
      "conv2d_24 (Conv2D)           (None, 26, 60, 96)        221280    \n",
      "_________________________________________________________________\n",
      "max_pooling2d_18 (MaxPooling (None, 8, 20, 96)         0         \n",
      "_________________________________________________________________\n",
      "dropout_17 (Dropout)         (None, 8, 20, 96)         0         \n",
      "_________________________________________________________________\n",
      "flatten_6 (Flatten)          (None, 15360)             0         \n",
      "_________________________________________________________________\n",
      "dense_11 (Dense)             (None, 1024)              15729664  \n",
      "_________________________________________________________________\n",
      "dropout_18 (Dropout)         (None, 1024)              0         \n",
      "_________________________________________________________________\n",
      "dense_12 (Dense)             (None, 7)                 7175      \n",
      "=================================================================\n",
      "Total params: 16,424,487\n",
      "Trainable params: 16,424,487\n",
      "Non-trainable params: 0\n",
      "_________________________________________________________________\n"
     ]
    }
   ],
   "source": [
    "model = MODEL()\n",
    "model.summary()"
   ]
  },
  {
   "cell_type": "code",
   "execution_count": 132,
   "metadata": {},
   "outputs": [],
   "source": [
    "#CONVERTING THE DATA INTO TRAINING AND TESTING\n",
    "seed =7\n",
    "x_train,x_test,y_train,y_test= train_test_split(xdata,ydata,test_size=0.3,random_state=seed)"
   ]
  },
  {
   "cell_type": "code",
   "execution_count": 133,
   "metadata": {},
   "outputs": [],
   "source": [
    "#resizing of the image\n",
    "x_train = np.array([x for x in x_train]).reshape(-1,300,600,3)"
   ]
  },
  {
   "cell_type": "code",
   "execution_count": 134,
   "metadata": {},
   "outputs": [],
   "source": [
    "#resizing of the image\n",
    "x_test = np.array([x for x in x_test]).reshape(-1,300,600,3)"
   ]
  },
  {
   "cell_type": "code",
   "execution_count": 135,
   "metadata": {},
   "outputs": [],
   "source": [
    "x_train = x_train.astype('float32')/255\n",
    "x_test = x_test.astype('float32')/255 \n",
    "#as converting the values ranging between 0 and 1 will help the model in training"
   ]
  },
  {
   "cell_type": "code",
   "execution_count": 136,
   "metadata": {},
   "outputs": [
    {
     "data": {
      "text/plain": [
       "((8, 300, 600, 3), (12, 7))"
      ]
     },
     "execution_count": 136,
     "metadata": {},
     "output_type": "execute_result"
    }
   ],
   "source": [
    "x_train.shape,ydata.shape"
   ]
  },
  {
   "cell_type": "code",
   "execution_count": null,
   "metadata": {},
   "outputs": [
    {
     "name": "stdout",
     "output_type": "stream",
     "text": [
      "Epoch 1/5\n",
      "8/8 [==============================] - 5s 626ms/step - loss: 1.9789 - acc: 0.2500\n",
      "Epoch 2/5\n",
      "8/8 [==============================] - 4s 525ms/step - loss: 10.0738 - acc: 0.3750\n",
      "Epoch 3/5\n",
      "8/8 [==============================] - 4s 523ms/step - loss: 10.0738 - acc: 0.3750\n",
      "Epoch 4/5\n"
     ]
    }
   ],
   "source": [
    "history = model.fit(x_train,y_train,epochs=5,batch_size=10,verbose=1)"
   ]
  },
  {
   "cell_type": "code",
   "execution_count": null,
   "metadata": {},
   "outputs": [],
   "source": [
    "model.evaluate(x_test,y_test)"
   ]
  },
  {
   "cell_type": "code",
   "execution_count": null,
   "metadata": {},
   "outputs": [],
   "source": [
    "predict = model.predict_proba(np.array([x_test[2],]))"
   ]
  },
  {
   "cell_type": "code",
   "execution_count": null,
   "metadata": {},
   "outputs": [],
   "source": [
    "predictprob = model.predict_proba(np.array([x_test[2],]))"
   ]
  },
  {
   "cell_type": "code",
   "execution_count": null,
   "metadata": {},
   "outputs": [],
   "source": [
    "predict,predictprob"
   ]
  },
  {
   "cell_type": "code",
   "execution_count": null,
   "metadata": {},
   "outputs": [],
   "source": []
  }
 ],
 "metadata": {
  "kernelspec": {
   "display_name": "Python 3",
   "language": "python",
   "name": "python3"
  },
  "language_info": {
   "codemirror_mode": {
    "name": "ipython",
    "version": 3
   },
   "file_extension": ".py",
   "mimetype": "text/x-python",
   "name": "python",
   "nbconvert_exporter": "python",
   "pygments_lexer": "ipython3",
   "version": "3.6.8"
  }
 },
 "nbformat": 4,
 "nbformat_minor": 2
}
